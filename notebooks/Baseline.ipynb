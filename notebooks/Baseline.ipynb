{
 "cells": [
  {
   "cell_type": "code",
   "execution_count": null,
   "metadata": {},
   "outputs": [],
   "source": [
    "## Python 3.6\n",
    "# ! pip install matplotlib==3.2.1 numpy==1.18.4 pandas==1.06 scipy==1.4.1 seaborn==0.10.1 tqdm==4.46.0"
   ]
  },
  {
   "cell_type": "code",
   "execution_count": 2,
   "metadata": {},
   "outputs": [],
   "source": [
    "import matplotlib.pyplot as plt\n",
    "import numpy as np\n",
    "import pandas as pd\n",
    "import scipy.stats\n",
    "import seaborn as sns\n",
    "from tqdm import tqdm"
   ]
  },
  {
   "cell_type": "code",
   "execution_count": 3,
   "metadata": {},
   "outputs": [],
   "source": [
    "from itertools import product\n",
    "import pickle\n",
    "import os"
   ]
  },
  {
   "cell_type": "markdown",
   "metadata": {},
   "source": [
    "## Setup\n",
    "\n",
    "* _Exposure is different for each agent, and it is drawn from a log-normal distribution (rescaled between 0 and 1)_\n",
    "* _[T]wo other parameters control the probability, for each agent, to accept reliable information (Br Believe reliable) and to accept misinformation (Bm Believe misinformation). These two values are extracted, for each agent, from a normal distribution truncated between 0 and 1, with standard deviation equal to 0.1 and with mean equal to the parameter values._"
   ]
  },
  {
   "cell_type": "code",
   "execution_count": 4,
   "metadata": {},
   "outputs": [],
   "source": [
    "N = 1000\n",
    "T = 1000\n",
    "C_m = 0.05\n",
    "B_r = 0.6\n",
    "B_m = 0.3"
   ]
  },
  {
   "cell_type": "code",
   "execution_count": 5,
   "metadata": {},
   "outputs": [],
   "source": [
    "def make_setup(N, B_r, B_m):\n",
    "    agent_exposure = np.exp(scipy.stats.multivariate_normal(0, 1).rvs(N))\n",
    "    agent_exposure = agent_exposure / np.max(agent_exposure)\n",
    "\n",
    "    agent_misinformation_acceptance = scipy.stats.truncnorm(0, 1, loc=B_m, scale=.1).rvs(N)\n",
    "    agent_reliable_info_acceptance = scipy.stats.truncnorm(0, 1, loc=B_r, scale=.1).rvs(N)\n",
    "    return agent_exposure, agent_misinformation_acceptance, agent_reliable_info_acceptance"
   ]
  },
  {
   "cell_type": "markdown",
   "metadata": {},
   "source": [
    "## Global information score\n",
    "\n",
    "_[A] global information score is calculated as the total number of pieces of reliable information accepted minus the total number of pieces of misinformation accepted, normalized with the overall amount of news (and then multiplied by 100 to make it more legible)_\n",
    "\n",
    "**Implementation:**\n",
    "* information - array in which each position contains -1, 0 or 1, with the following meanings:\n",
    "    * -1: misinformation\n",
    "    * 0: no information\n",
    "    * 1: reliable information\n",
    "* acceptance - array in which each position contains 0 or 1, with the meanings:\n",
    "    * 0: information not accepted\n",
    "    * 1: information accepted"
   ]
  },
  {
   "cell_type": "code",
   "execution_count": 6,
   "metadata": {},
   "outputs": [],
   "source": [
    "def calc_global_information_score(information, acceptance):\n",
    "    return 100 * np.sum(information * acceptance) / np.sum(np.abs(information))"
   ]
  },
  {
   "cell_type": "markdown",
   "metadata": {},
   "source": [
    "## Dynamics\n",
    "\n",
    "At each step, agents will:\n",
    "* consume a piece of news with misinformation (-1)\n",
    "* consume a piece of news with reliable information (1)\n",
    "* NOT consume any piece of news (0)\n",
    "\n",
    "Then, they will choose to believe in it or not.\n",
    "\n",
    "For each step, we calculate the global information score"
   ]
  },
  {
   "cell_type": "code",
   "execution_count": 7,
   "metadata": {},
   "outputs": [],
   "source": [
    "def sample_from_probs(probs):\n",
    "    size = len(probs)\n",
    "    random_array = np.random.random(size)\n",
    "    return (random_array < probs).astype(np.uint8)"
   ]
  },
  {
   "cell_type": "code",
   "execution_count": 8,
   "metadata": {},
   "outputs": [],
   "source": [
    "def calc_news_not_news(agent_exposure):\n",
    "    return sample_from_probs(agent_exposure)"
   ]
  },
  {
   "cell_type": "code",
   "execution_count": 9,
   "metadata": {},
   "outputs": [],
   "source": [
    "def is_misinformation_or_not(news_not_news, C_m):\n",
    "    news_type = np.random.choice([-1, 1], size=N, p=[C_m, 1-C_m])\n",
    "    return news_type * news_not_news"
   ]
  },
  {
   "cell_type": "code",
   "execution_count": 10,
   "metadata": {},
   "outputs": [],
   "source": [
    "def accept_information_or_not(misinformation_or_not, agent_misinformation_acceptance, agent_reliable_info_acceptance):\n",
    "    acceptance_prob = misinformation_or_not.copy().astype(np.float32)\n",
    "    misinformation_indices = list(np.where(misinformation_or_not == -1)[0])\n",
    "    reliable_info_indices = list(np.where(misinformation_or_not == 1)[0])\n",
    "\n",
    "    acceptance_prob[misinformation_indices] = agent_misinformation_acceptance[misinformation_indices]\n",
    "    acceptance_prob[reliable_info_indices] = agent_reliable_info_acceptance[reliable_info_indices]\n",
    "    return sample_from_probs(acceptance_prob)"
   ]
  },
  {
   "cell_type": "code",
   "execution_count": 11,
   "metadata": {},
   "outputs": [],
   "source": [
    "def run_iteration(agent_exposure, agent_misinformation_acceptance, agent_reliable_info_acceptance, **params):\n",
    "    C_m = params[\"C_m\"]\n",
    "    \n",
    "    news_not_news = calc_news_not_news(agent_exposure)\n",
    "    misinformation_or_not = is_misinformation_or_not(news_not_news, C_m)\n",
    "    acceptance_or_not = accept_information_or_not(misinformation_or_not, agent_misinformation_acceptance, agent_reliable_info_acceptance)\n",
    "    \n",
    "    return misinformation_or_not, acceptance_or_not"
   ]
  },
  {
   "cell_type": "code",
   "execution_count": 12,
   "metadata": {},
   "outputs": [],
   "source": [
    "def run_simulation(T, **params):\n",
    "    N = params[\"N\"]\n",
    "    B_r = params[\"B_r\"]\n",
    "    B_m = params[\"B_m\"]\n",
    "    agent_exposure, agent_misinformation_acceptance, agent_reliable_info_acceptance = make_setup(N, B_r, B_m)\n",
    "    \n",
    "    information = np.empty(shape=N * T)\n",
    "    acceptance = np.empty(shape=N * T)\n",
    "    \n",
    "    all_indicators = []\n",
    "    for t in range(T):\n",
    "        misinformation_or_not, acceptance_or_not = run_iteration(\n",
    "            agent_exposure, agent_misinformation_acceptance, agent_reliable_info_acceptance, **params)\n",
    "        \n",
    "        information[N * t : N * (t+1)] = misinformation_or_not\n",
    "        acceptance[N * t : N * (t+1)] = acceptance_or_not\n",
    "        \n",
    "    return calc_global_information_score(information, acceptance)"
   ]
  },
  {
   "cell_type": "markdown",
   "metadata": {},
   "source": [
    "## Simulations"
   ]
  },
  {
   "cell_type": "code",
   "execution_count": 13,
   "metadata": {},
   "outputs": [],
   "source": [
    "use_cache = (os.path.exists(\"results.pkl\"))"
   ]
  },
  {
   "cell_type": "code",
   "execution_count": 14,
   "metadata": {},
   "outputs": [
    {
     "name": "stderr",
     "output_type": "stream",
     "text": [
      "100%|██████████| 11/11 [00:00<00:00, 32652.05it/s]\n"
     ]
    }
   ],
   "source": [
    "simulation_results = []\n",
    "for extra_B_r in tqdm(np.arange(0. , 0.11, 0.01)):\n",
    "    if use_cache:\n",
    "        continue\n",
    "    for i in range(10):\n",
    "        params = {\n",
    "            \"N\": N,\n",
    "            \"C_m\": C_m,\n",
    "            \"B_m\": B_m,\n",
    "            \"B_r\": B_r + extra_B_r,\n",
    "        }\n",
    "        global_information_score = run_simulation(T, **params)\n",
    "        simulation_results.append({\n",
    "            \"improvement_in_B_r\": extra_B_r,\n",
    "            \"global_information_score\": global_information_score\n",
    "        })"
   ]
  },
  {
   "cell_type": "code",
   "execution_count": 15,
   "metadata": {},
   "outputs": [],
   "source": [
    "misinformation_to_zero_results = []\n",
    "for i in range(10):\n",
    "    if use_cache:\n",
    "        continue\n",
    "    \n",
    "    params = {\n",
    "        \"N\": N,\n",
    "        \"C_m\": C_m,\n",
    "        \"B_m\": 0.,\n",
    "        \"B_r\": B_r,\n",
    "    }\n",
    "    global_information_score = run_simulation(T, **params)\n",
    "    misinformation_to_zero_results.append(global_information_score)"
   ]
  },
  {
   "cell_type": "code",
   "execution_count": 16,
   "metadata": {},
   "outputs": [],
   "source": [
    "total = 2 * len(list(product(np.arange(0., 0.11, 0.01), np.arange(0.01, 0.11, 0.01))))"
   ]
  },
  {
   "cell_type": "code",
   "execution_count": 17,
   "metadata": {},
   "outputs": [
    {
     "name": "stderr",
     "output_type": "stream",
     "text": [
      "100%|██████████| 220/220 [00:00<00:00, 279112.79it/s]\n"
     ]
    }
   ],
   "source": [
    "reliable_info_vs_misinformation_rate_results = []\n",
    "for different_B_m, different_C_m, extra_B_r in tqdm(\n",
    "    product([0., B_m], np.arange(0.01, 0.11, 0.01), np.arange(0., 0.11, 0.01)), total=total):\n",
    "    \n",
    "    if use_cache:\n",
    "        continue\n",
    "    \n",
    "    for i in range(10):\n",
    "        params = {\n",
    "            \"N\": N,\n",
    "            \"C_m\": different_C_m,\n",
    "            \"B_m\": different_B_m,\n",
    "            \"B_r\": B_r + extra_B_r,\n",
    "        }\n",
    "        global_information_score = run_simulation(T, **params)\n",
    "        reliable_info_vs_misinformation_rate_results.append({\n",
    "            \"C_m\": params[\"C_m\"],\n",
    "            \"B_r\": params[\"B_r\"],\n",
    "            \"B_m\": params[\"B_m\"],\n",
    "            \"global_information_score\": global_information_score\n",
    "        }) "
   ]
  },
  {
   "cell_type": "code",
   "execution_count": 18,
   "metadata": {},
   "outputs": [],
   "source": [
    "## Cache\n",
    "if not use_cache:\n",
    "    results = (simulation_results, misinformation_to_zero_results, reliable_info_vs_misinformation_rate_results)\n",
    "    with open(\"results.pkl\", \"wb\") as f:\n",
    "        pickle.dump(results, f)"
   ]
  },
  {
   "cell_type": "code",
   "execution_count": 19,
   "metadata": {},
   "outputs": [],
   "source": [
    "with open(\"results.pkl\", \"rb\") as f:\n",
    "    simulation_results, misinformation_to_zero_results, \\\n",
    "        reliable_info_vs_misinformation_rate_results = pickle.load(f)"
   ]
  },
  {
   "cell_type": "markdown",
   "metadata": {},
   "source": [
    "## Results"
   ]
  },
  {
   "cell_type": "code",
   "execution_count": 20,
   "metadata": {},
   "outputs": [],
   "source": [
    "results_df = pd.DataFrame(simulation_results)"
   ]
  },
  {
   "cell_type": "code",
   "execution_count": 21,
   "metadata": {},
   "outputs": [
    {
     "name": "stderr",
     "output_type": "stream",
     "text": [
      "/home/cin/.local/lib/python3.6/site-packages/ipykernel_launcher.py:3: SettingWithCopyWarning: \n",
      "A value is trying to be set on a copy of a slice from a DataFrame.\n",
      "Try using .loc[row_indexer,col_indexer] = value instead\n",
      "\n",
      "See the caveats in the documentation: https://pandas.pydata.org/pandas-docs/stable/user_guide/indexing.html#returning-a-view-versus-a-copy\n",
      "  This is separate from the ipykernel package so we can avoid doing imports until\n"
     ]
    }
   ],
   "source": [
    "subset_results_df = results_df[results_df[\"improvement_in_B_r\"] > 0]\n",
    "subset_results_df[\"Percentage of improvement acceptance of reliable information\"] = (\n",
    "    100 * subset_results_df[\"improvement_in_B_r\"]).astype(int)"
   ]
  },
  {
   "cell_type": "code",
   "execution_count": 22,
   "metadata": {},
   "outputs": [],
   "source": [
    "baseline = results_df[results_df[\"improvement_in_B_r\"] == 0][\"global_information_score\"].mean()"
   ]
  },
  {
   "cell_type": "code",
   "execution_count": 23,
   "metadata": {},
   "outputs": [],
   "source": [
    "intervention_in_misinformation = np.mean(misinformation_to_zero_results)"
   ]
  },
  {
   "cell_type": "code",
   "execution_count": 24,
   "metadata": {},
   "outputs": [
    {
     "data": {
      "image/png": "[encoded data removed]",
      "text/plain": [
       "<Figure size 720x576 with 1 Axes>"
      ]
     },
     "metadata": {
      "needs_background": "light"
     },
     "output_type": "display_data"
    }
   ],
   "source": [
    "plt.figure(figsize=(10, 8))\n",
    "sns.pointplot(x=\"Percentage of improvement acceptance of reliable information\", y=\"global_information_score\", \n",
    "              data=subset_results_df, join=False, ci=\"sd\", color=\"tab:purple\")\n",
    "\n",
    "plt.axhline(baseline, color=\"black\", linestyle=\"--\")\n",
    "plt.text(8.2, baseline + 0.15, \"Baseline\", color=\"black\", fontsize=11)\n",
    "\n",
    "\n",
    "plt.axhline(intervention_in_misinformation, color=\"tab:red\", linestyle=\"--\")\n",
    "plt.text(6, intervention_in_misinformation + 0.15, \"Invervention on misinformation\", color=\"tab:red\", fontsize=11)\n",
    "sns.despine()\n",
    "plt.grid()"
   ]
  },
  {
   "cell_type": "markdown",
   "metadata": {},
   "source": [
    "### Misinformation rate vs. Reliable info acceptance"
   ]
  },
  {
   "cell_type": "code",
   "execution_count": 25,
   "metadata": {},
   "outputs": [],
   "source": [
    "reliable_info_vs_misinformation_rate_results_df = pd.DataFrame(reliable_info_vs_misinformation_rate_results)"
   ]
  },
  {
   "cell_type": "code",
   "execution_count": 26,
   "metadata": {},
   "outputs": [],
   "source": [
    "subset_misinformation_to_zero_df = (\n",
    "    reliable_info_vs_misinformation_rate_results_df[\n",
    "        (reliable_info_vs_misinformation_rate_results_df[\"B_m\"] == 0) &\n",
    "        (reliable_info_vs_misinformation_rate_results_df[\"B_r\"] == B_r)\n",
    "    ]\n",
    "    .groupby([\"C_m\", \"B_r\"])\n",
    "    .agg({\"global_information_score\": \"mean\"})\n",
    "    .reset_index()\n",
    "    .rename(columns={\"global_information_score\": \"global_information_score_zero\"})\n",
    ")\n",
    "subset_misinformation_kept_non_zero_df = (\n",
    "    reliable_info_vs_misinformation_rate_results_df[\n",
    "        reliable_info_vs_misinformation_rate_results_df[\"B_m\"] > 0]\n",
    "    .groupby([\"C_m\", \"B_r\"])\n",
    "    .agg({\"global_information_score\": \"mean\"})\n",
    "    .reset_index()\n",
    "    .rename(columns={\"global_information_score\": \"global_information_score_non_zero\"})\n",
    ")"
   ]
  },
  {
   "cell_type": "code",
   "execution_count": 27,
   "metadata": {},
   "outputs": [],
   "source": [
    "subset_misinformation_kept_non_zero_df = (\n",
    "    subset_misinformation_kept_non_zero_df\n",
    "        .merge(subset_misinformation_to_zero_df.drop(\"B_r\", axis=1), on=[\"C_m\"], how=\"left\")\n",
    ")\n",
    "subset_misinformation_kept_non_zero_df[\"diff_global_information_score\"] = (\n",
    "    subset_misinformation_kept_non_zero_df[\"global_information_score_non_zero\"] - \n",
    "    subset_misinformation_kept_non_zero_df[\"global_information_score_zero\"]\n",
    ")"
   ]
  },
  {
   "cell_type": "code",
   "execution_count": 28,
   "metadata": {},
   "outputs": [],
   "source": [
    "subset_misinformation_kept_non_zero_df[\"extra_B_r\"] = round(100 * (subset_misinformation_kept_non_zero_df[\"B_r\"] - B_r)).astype(int)\n",
    "subset_misinformation_kept_non_zero_df[\"C_m\"] = (100 * subset_misinformation_kept_non_zero_df[\"C_m\"]).astype(int)"
   ]
  },
  {
   "cell_type": "code",
   "execution_count": 29,
   "metadata": {},
   "outputs": [],
   "source": [
    "formatted_df = pd.pivot_table(\n",
    "    subset_misinformation_kept_non_zero_df,\n",
    "    index=[\"extra_B_r\"],\n",
    "    columns=[\"C_m\"],\n",
    "    values=[\"diff_global_information_score\"]\n",
    ").sort_values(by=[\"extra_B_r\"], ascending=False)"
   ]
  },
  {
   "cell_type": "code",
   "execution_count": 30,
   "metadata": {},
   "outputs": [],
   "source": [
    "formatted_df.columns = formatted_df.columns.droplevel()"
   ]
  },
  {
   "cell_type": "code",
   "execution_count": 31,
   "metadata": {},
   "outputs": [
    {
     "data": {
      "image/png": "[encoded data removed]",
      "text/plain": [
       "<Figure size 720x576 with 2 Axes>"
      ]
     },
     "metadata": {
      "needs_background": "light"
     },
     "output_type": "display_data"
    }
   ],
   "source": [
    "plt.figure(figsize=(10, 8))\n",
    "sns.heatmap(formatted_df, cmap=\"vlag_r\",annot=True)\n",
    "plt.show()"
   ]
  },
  {
   "cell_type": "code",
   "execution_count": null,
   "metadata": {},
   "outputs": [],
   "source": []
  }
 ],
 "metadata": {
  "kernelspec": {
   "display_name": "Python 3",
   "language": "python",
   "name": "python3"
  },
  "language_info": {
   "codemirror_mode": {
    "name": "ipython",
    "version": 3
   },
   "file_extension": ".py",
   "mimetype": "text/x-python",
   "name": "python",
   "nbconvert_exporter": "python",
   "pygments_lexer": "ipython3",
   "version": "3.6.9"
  }
 },
 "nbformat": 4,
 "nbformat_minor": 4
}
